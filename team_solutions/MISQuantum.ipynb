{
 "cells": [
  {
   "cell_type": "code",
   "execution_count": 8,
   "metadata": {},
   "outputs": [],
   "source": [
    "from bloqade import rydberg_h, piecewise_linear, piecewise_constant, waveform, cast\n",
    "from bloqade.atom_arrangement import ListOfLocations, Lieb, Square, Chain, Honeycomb, Kagome, Triangular, Rectangular\n",
    "from bokeh.io import output_notebook # to plot \"show()\" on the notebook, without opening a browser\n",
    "import os\n",
    "import matplotlib.pyplot as plt\n",
    "import numpy as np"
   ]
  },
  {
   "cell_type": "code",
   "execution_count": 9,
   "metadata": {},
   "outputs": [],
   "source": [
    "Rb = np.sqrt(3*np.sqrt(10))*4\n",
    "C6 = 2*np.pi*862690\n",
    "Ω_max = 2*np.pi*2.5\n",
    "Δ_end = C6 / (Rb**6)\n",
    "Δ_start = -2*np.pi*10\n",
    "Δ0 = Δ_end\n",
    "T_max = 0.8"
   ]
  },
  {
   "cell_type": "code",
   "execution_count": 12,
   "metadata": {},
   "outputs": [],
   "source": [
    "#geometry\n",
    "rng = np.random.default_rng(1234)\n",
    "atom_pos=Square(5, lattice_spacing=4).apply_defect_density(0.3, rng=rng).remove_vacant_sites()"
   ]
  },
  {
   "cell_type": "code",
   "execution_count": 17,
   "metadata": {},
   "outputs": [],
   "source": [
    "def loss_piecewise_linear(atom_pos, x):\n",
    "    #dynamics\n",
    "    durations = [0.05, 0.15, 0.1, 0.1, 0.1, 0.1, 0.15, 0.05]\n",
    "    delta_MHz=[Δ_start, Δ_start, Δ0*x[0], Δ0*x[1], Δ0*x[2], Δ0*x[3], Δ0*x[4], Δ_end, Δ_end]\n",
    "    omega_MHz= [0.0, 0.0, 0.0, Ω_max, Ω_max, Ω_max, 0.0, 0.0, 0.0]\n",
    "\n",
    "    Delta = piecewise_linear(durations,[x*2*np.pi for x in delta_MHz])\n",
    "    Omega = piecewise_linear(durations,[x*2*np.pi for x in omega_MHz])\n",
    "\n",
    "    #create Hamiltonian\n",
    "    program = rydberg_h(atom_pos, detuning=Delta, amplitude=Omega, phase=None)\n",
    "    program.parse_register().show()\n",
    "    program.parse_sequence().show()"
   ]
  },
  {
   "cell_type": "code",
   "execution_count": 18,
   "metadata": {},
   "outputs": [],
   "source": [
    "loss_piecewise_linear(atom_pos, [-6.0, -3.0, 1.0, 3.0, 6.0])"
   ]
  }
 ],
 "metadata": {
  "kernelspec": {
   "display_name": "Python 3",
   "language": "python",
   "name": "python3"
  },
  "language_info": {
   "codemirror_mode": {
    "name": "ipython",
    "version": 3
   },
   "file_extension": ".py",
   "mimetype": "text/x-python",
   "name": "python",
   "nbconvert_exporter": "python",
   "pygments_lexer": "ipython3",
   "version": "3.12.0"
  }
 },
 "nbformat": 4,
 "nbformat_minor": 2
}
