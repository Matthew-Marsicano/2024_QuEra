{
 "cells": [
  {
   "cell_type": "code",
   "execution_count": 13,
   "metadata": {},
   "outputs": [],
   "source": [
    "using Bloqade\n",
    "using Random\n",
    "using PythonCall\n",
    "using Optim\n",
    "plt = pyimport(\"matplotlib.pyplot\");"
   ]
  },
  {
   "cell_type": "code",
   "execution_count": 14,
   "metadata": {},
   "outputs": [
    {
     "data": {
      "text/plain": [
       "loss_piecewise_linear (generic function with 1 method)"
      ]
     },
     "execution_count": 14,
     "metadata": {},
     "output_type": "execute_result"
    }
   ],
   "source": [
    "function loss_piecewise_linear(atoms::AtomList, x::AbstractVector{T}) where {T}\n",
    "    @assert length(x) == 5\n",
    "    Rb=sqrt(3*sqrt(10))*4\n",
    "    C6 = 2π*862690\n",
    "    Ω_max = 2π*2.5\n",
    "    Δ_end = C6 / Rb^6\n",
    "    Δ_start = -2π*10\n",
    "    Δ0 = Δ_end\n",
    "    T_max = 0.8\n",
    "\n",
    "    # the strength of the detunings at each step takes the optimizing x as their input\n",
    "    Δs = piecewise_linear(clocks = T[0.0, 0.05, 0.2, 0.3, 0.4, 0.5, 0.6, 0.75, T_max],\n",
    "            values = T[Δ_start, Δ_start, Δ0*x[1], Δ0*x[2], Δ0*x[3], Δ0*x[4], Δ0*x[5], Δ_end, Δ_end])\n",
    "    Ωs = piecewise_linear(clocks = T[0.0, 0.05, 0.1, 0.2, 0.6, 0.7, 0.75, T_max], values = T[0, 0, 0, Ω_max, Ω_max, 0, 0, 0])\n",
    "\n",
    "    hamiltonian = rydberg_h(atoms; Ω = Ωs, Δ = Δs)\n",
    "    subspace = blockade_subspace(atoms, Rb)\n",
    "    prob = SchrodingerProblem(zero_state(Complex{T}, subspace), T_max, hamiltonian)\n",
    "    emulate!(prob)\n",
    "    return -rydberg_density_sum(prob.reg), prob.reg, Ωs, Δs\n",
    "end"
   ]
  },
  {
   "cell_type": "code",
   "execution_count": 15,
   "metadata": {},
   "outputs": [
    {
     "data": {
      "text/plain": [
       "generateOpt (generic function with 1 method)"
      ]
     },
     "execution_count": 15,
     "metadata": {},
     "output_type": "execute_result"
    }
   ],
   "source": [
    "function generateOpt(seed::Int64)\n",
    "    Random.seed!(seed)\n",
    "    atoms = generate_sites(SquareLattice(), 5,5; scale = 4) |> random_dropout(0.2)\n",
    "\n",
    "    x0 = [-6.0, -3.0, 1.0, 3.0, 6.0]; # initial point for the optimization\n",
    "    optresult = Optim.optimize(x -> loss_piecewise_linear(atoms, x)[1], x0)\n",
    "    return optresult.minimizer\n",
    "end"
   ]
  },
  {
   "cell_type": "code",
   "execution_count": 17,
   "metadata": {},
   "outputs": [
    {
     "data": {
      "text/plain": [
       "5-element Vector{Float64}:\n",
       " -34.357805747236654\n",
       "   1.4329770373209492\n",
       "   7.5693393460213\n",
       "   9.973535516555557\n",
       "  19.50077146687081"
      ]
     },
     "execution_count": 17,
     "metadata": {},
     "output_type": "execute_result"
    }
   ],
   "source": [
    "optim = generateOpt(1)\n",
    "for i in 2:20\n",
    "    optimInst = generateOpt(i)\n",
    "    for j in 1:length(optim)\n",
    "        optim[j] += optimInst[j]\n",
    "        optim[j] /= 2\n",
    "    end\n",
    "end\n",
    "optim"
   ]
  }
 ],
 "metadata": {
  "kernelspec": {
   "display_name": "Julia 1.10.0",
   "language": "julia",
   "name": "julia-1.10"
  },
  "language_info": {
   "file_extension": ".jl",
   "mimetype": "application/julia",
   "name": "julia",
   "version": "1.10.0"
  }
 },
 "nbformat": 4,
 "nbformat_minor": 2
}
